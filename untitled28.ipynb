{
  "nbformat": 4,
  "nbformat_minor": 0,
  "metadata": {
    "colab": {
      "provenance": [],
      "authorship_tag": "ABX9TyPL9K2DIowFp34L40zdUYgQ",
      "include_colab_link": true
    },
    "kernelspec": {
      "name": "python3",
      "display_name": "Python 3"
    },
    "language_info": {
      "name": "python"
    }
  },
  "cells": [
    {
      "cell_type": "markdown",
      "metadata": {
        "id": "view-in-github",
        "colab_type": "text"
      },
      "source": [
        "<a href=\"https://colab.research.google.com/github/Sampathraj1203/sam0002/blob/main/untitled28.ipynb\" target=\"_parent\"><img src=\"https://colab.research.google.com/assets/colab-badge.svg\" alt=\"Open In Colab\"/></a>"
      ]
    },
    {
      "cell_type": "code",
      "execution_count": null,
      "metadata": {
        "colab": {
          "base_uri": "https://localhost:8080/"
        },
        "id": "TpxB-1Eky2Jv",
        "outputId": "00ffbf86-753a-4d79-b2d3-69cd086bea91"
      },
      "outputs": [
        {
          "output_type": "stream",
          "name": "stdout",
          "text": [
            "Welcome to the Simple Calculator App!\n",
            "Enter your username: 1\n",
            "Enter your password: 5\n",
            "Authentication failed. Incorrect username or password.\n"
          ]
        }
      ],
      "source": [
        "# Define a username and password (replace with your own values)\n",
        "correct_username = \"admin\"\n",
        "correct_password = \"password\"\n",
        "\n",
        "def authenticate():\n",
        "    username = input(\"Enter your username: \")\n",
        "    password = input(\"Enter your password: \")\n",
        "\n",
        "    if username == correct_username and password == correct_password:\n",
        "        print(\"Authentication successful.\")\n",
        "        add_numbers()\n",
        "    else:\n",
        "        print(\"Authentication failed. Incorrect username or password.\")\n",
        "\n",
        "def add_numbers():\n",
        "    try:\n",
        "        num1 = float(input(\"Enter the first number: \"))\n",
        "        num2 = float(input(\"Enter the second number: \"))\n",
        "        result = num1 + num2\n",
        "        print(f\"The sum of {num1} and {num2} is: {result}\")\n",
        "    except ValueError:\n",
        "        print(\"Invalid input. Please enter valid numbers.\")\n",
        "\n",
        "if __name__ == \"__main__\":\n",
        "    print(\"Welcome to the Simple Calculator App!\")\n",
        "    authenticate()\n"
      ]
    },
    {
      "cell_type": "code",
      "source": [],
      "metadata": {
        "id": "DxPjcbLDzeKL"
      },
      "execution_count": null,
      "outputs": []
    }
  ]
}